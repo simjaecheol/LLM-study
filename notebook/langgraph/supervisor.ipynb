{
 "cells": [
  {
   "cell_type": "code",
   "execution_count": 1,
   "metadata": {},
   "outputs": [
    {
     "data": {
      "text/plain": [
       "True"
      ]
     },
     "execution_count": 1,
     "metadata": {},
     "output_type": "execute_result"
    }
   ],
   "source": [
    "from dotenv import load_dotenv\n",
    "\n",
    "load_dotenv(\"../../.env\")"
   ]
  },
  {
   "cell_type": "code",
   "execution_count": 2,
   "metadata": {},
   "outputs": [
    {
     "name": "stderr",
     "output_type": "stream",
     "text": [
      "USER_AGENT environment variable not set, consider setting it to identify your requests.\n"
     ]
    }
   ],
   "source": [
    "from typing import Annotated, List\n",
    "\n",
    "from langchain_community.document_loaders import WebBaseLoader\n",
    "from langchain_community.tools.tavily_search import TavilySearchResults\n",
    "from langchain_core.tools import tool\n",
    "\n",
    "tavily_tool = TavilySearchResults(max_results=5)\n",
    "\n",
    "\n",
    "@tool\n",
    "def scrape_webpages(urls: List[str]) -> str:\n",
    "    \"\"\"Use requests and bs4 to scrape the provided web pages for detailed information.\"\"\"\n",
    "    loader = WebBaseLoader(urls)\n",
    "    docs = loader.load()\n",
    "    return \"\\n\\n\".join(\n",
    "        [\n",
    "            f'<Document name=\"{doc.metadata.get(\"title\", \"\")}\">\\n{doc.page_content}\\n</Document>'\n",
    "            for doc in docs\n",
    "        ]\n",
    "    )"
   ]
  },
  {
   "cell_type": "code",
   "execution_count": 11,
   "metadata": {},
   "outputs": [],
   "source": [
    "from pathlib import Path\n",
    "from tempfile import TemporaryDirectory\n",
    "from typing import Dict, Optional\n",
    "\n",
    "from langchain_experimental.utilities import PythonREPL\n",
    "from typing_extensions import TypedDict\n",
    "\n",
    "_TEMP_DIRECTORY = TemporaryDirectory()\n",
    "WORKING_DIRECTORY = Path(_TEMP_DIRECTORY.name)\n",
    "\n",
    "\n",
    "@tool\n",
    "def create_outline(\n",
    "    points: Annotated[List[str], \"List of main points or sections.\"],\n",
    "    file_name: Annotated[str, \"File path to save the outline.\"],\n",
    ") -> Annotated[str, \"Path of the saved outline file.\"]:\n",
    "    \"\"\"Create and save an outline.\"\"\"\n",
    "    with (WORKING_DIRECTORY / file_name).open(\"w\") as file:\n",
    "        for i, point in enumerate(points):\n",
    "            file.write(f\"{i + 1}. {point}\\n\")\n",
    "    return f\"Outline saved to {file_name}\"\n",
    "\n",
    "\n",
    "@tool\n",
    "def read_document(\n",
    "    file_name: Annotated[str, \"File path to read the document from.\"],\n",
    "    start: Annotated[Optional[int], \"The start line. Default is 0\"] = None,\n",
    "    end: Annotated[Optional[int], \"The end line. Default is None\"] = None,\n",
    ") -> str:\n",
    "    \"\"\"Read the specified document.\"\"\"\n",
    "    with (WORKING_DIRECTORY / file_name).open(\"r\") as file:\n",
    "        lines = file.readlines()\n",
    "    if start is not None:\n",
    "        start = 0\n",
    "    return \"\\n\".join(lines[start:end])\n",
    "\n",
    "\n",
    "@tool\n",
    "def write_document(\n",
    "    content: Annotated[str, \"Text content to be written into the document.\"],\n",
    "    file_name: Annotated[str, \"File path to save the document.\"],\n",
    ") -> Annotated[str, \"Path of the saved document file.\"]:\n",
    "    \"\"\"Create and save a text document.\"\"\"\n",
    "    with (WORKING_DIRECTORY / file_name).open(\"w\") as file:\n",
    "        file.write(content)\n",
    "    return f\"Document saved to {file_name}\"\n",
    "\n",
    "\n",
    "@tool\n",
    "def edit_document(\n",
    "    file_name: Annotated[str, \"Path of the document to be edited.\"],\n",
    "    inserts: Annotated[\n",
    "        Dict[int, str],\n",
    "        \"Dictionary where key is the line number (1-indexed) and value is the text to be inserted at that line.\",\n",
    "    ],\n",
    ") -> Annotated[str, \"Path of the edited document file.\"]:\n",
    "    \"\"\"Edit a document by inserting text at specific line numbers.\"\"\"\n",
    "\n",
    "    with (WORKING_DIRECTORY / file_name).open(\"r\") as file:\n",
    "        lines = file.readlines()\n",
    "\n",
    "    sorted_inserts = sorted(inserts.items())\n",
    "\n",
    "    for line_number, text in sorted_inserts:\n",
    "        if 1 <= line_number <= len(lines) + 1:\n",
    "            lines.insert(line_number - 1, text + \"\\n\")\n",
    "        else:\n",
    "            return f\"Error: Line number {line_number} is out of range.\"\n",
    "\n",
    "    with (WORKING_DIRECTORY / file_name).open(\"w\") as file:\n",
    "        file.writelines(lines)\n",
    "\n",
    "    return f\"Document edited and saved to {file_name}\"\n",
    "\n",
    "\n",
    "# Warning: This executes code locally, which can be unsafe when not sandboxed\n",
    "\n",
    "repl = PythonREPL()\n",
    "\n",
    "\n",
    "@tool\n",
    "def python_repl_tool(\n",
    "    code: Annotated[str, \"The python code to execute to generate your chart.\"],\n",
    "):\n",
    "    \"\"\"Use this to execute python code. If you want to see the output of a value,\n",
    "    you should print it out with `print(...)`. This is visible to the user.\"\"\"\n",
    "    try:\n",
    "        result = repl.run(code)\n",
    "    except BaseException as e:\n",
    "        return f\"Failed to execute. Error: {repr(e)}\"\n",
    "    return f\"Successfully executed:\\n```python\\n{code}\\n```\\nStdout: {result}\""
   ]
  },
  {
   "cell_type": "code",
   "execution_count": 5,
   "metadata": {},
   "outputs": [],
   "source": [
    "from typing import List, Optional, Literal, TypedDict\n",
    "from langchain_core.language_models.chat_models import BaseChatModel\n",
    "\n",
    "from langgraph.graph import StateGraph, MessagesState, START, END\n",
    "from langchain_core.messages import HumanMessage, trim_messages\n",
    "\n",
    "\n",
    "# The agent state is the input to each node in the graph\n",
    "class AgentState(MessagesState):\n",
    "    # The 'next' field indicates where to route to next\n",
    "    next: str\n",
    "\n",
    "\n",
    "def make_supervisor_node(llm: BaseChatModel, members: list[str]) -> str:\n",
    "    options = [\"FINISH\"] + members\n",
    "    system_prompt = (\n",
    "        \"You are a supervisor tasked with managing a conversation between the\"\n",
    "        f\" following workers: {members}. Given the following user request,\"\n",
    "        \" respond with the worker to act next. Each worker will perform a\"\n",
    "        \" task and respond with their results and status. When finished,\"\n",
    "        \" respond with FINISH.\"\n",
    "    )\n",
    "\n",
    "    class Router(TypedDict):\n",
    "        \"\"\"Worker to route to next. If no workers needed, route to FINISH.\"\"\"\n",
    "\n",
    "        next: Literal[*options]\n",
    "\n",
    "    def supervisor_node(state: MessagesState) -> MessagesState:\n",
    "        \"\"\"An LLM-based router.\"\"\"\n",
    "        messages = [\n",
    "            {\"role\": \"system\", \"content\": system_prompt},\n",
    "        ] + state[\"messages\"]\n",
    "        response = llm.with_structured_output(Router).invoke(messages)\n",
    "        next_ = response[\"next\"]\n",
    "        if next_ == \"FINISH\":\n",
    "            next_ = END\n",
    "\n",
    "        return {\"next\": next_}\n",
    "\n",
    "    return supervisor_node"
   ]
  },
  {
   "cell_type": "code",
   "execution_count": 6,
   "metadata": {},
   "outputs": [],
   "source": [
    "from langchain_core.messages import HumanMessage\n",
    "from langchain_openai import ChatOpenAI\n",
    "from langgraph.prebuilt import create_react_agent\n",
    "\n",
    "llm = ChatOpenAI(model=\"gpt-4o\")\n",
    "\n",
    "search_agent = create_react_agent(llm, tools=[tavily_tool])\n",
    "\n",
    "\n",
    "def search_node(state: AgentState) -> AgentState:\n",
    "    result = search_agent.invoke(state)\n",
    "    return {\n",
    "        \"messages\": [\n",
    "            HumanMessage(content=result[\"messages\"][-1].content, name=\"search\")\n",
    "        ]\n",
    "    }\n",
    "\n",
    "\n",
    "web_scraper_agent = create_react_agent(llm, tools=[scrape_webpages])\n",
    "\n",
    "\n",
    "def web_scraper_node(state: AgentState) -> AgentState:\n",
    "    result = web_scraper_agent.invoke(state)\n",
    "    return {\n",
    "        \"messages\": [\n",
    "            HumanMessage(content=result[\"messages\"][-1].content, name=\"web_scraper\")\n",
    "        ]\n",
    "    }\n",
    "\n",
    "\n",
    "research_supervisor_node = make_supervisor_node(llm, [\"search\", \"web_scraper\"])"
   ]
  },
  {
   "cell_type": "code",
   "execution_count": 7,
   "metadata": {},
   "outputs": [],
   "source": [
    "research_builder = StateGraph(MessagesState)\n",
    "research_builder.add_node(\"supervisor\", research_supervisor_node)\n",
    "research_builder.add_node(\"search\", search_node)\n",
    "research_builder.add_node(\"web_scraper\", web_scraper_node)\n",
    "\n",
    "# Define the control flow\n",
    "research_builder.add_edge(START, \"supervisor\")\n",
    "# We want our workers to ALWAYS \"report back\" to the supervisor when done\n",
    "research_builder.add_edge(\"search\", \"supervisor\")\n",
    "research_builder.add_edge(\"web_scraper\", \"supervisor\")\n",
    "# Add the edges where routing applies\n",
    "research_builder.add_conditional_edges(\"supervisor\", lambda state: state[\"next\"])\n",
    "\n",
    "research_graph = research_builder.compile()"
   ]
  },
  {
   "cell_type": "code",
   "execution_count": 8,
   "metadata": {},
   "outputs": [
    {
     "data": {
      "image/png": "[encoded data removed]",
      "text/plain": [
       "<IPython.core.display.Image object>"
      ]
     },
     "metadata": {},
     "output_type": "display_data"
    }
   ],
   "source": [
    "from IPython.display import Image, display\n",
    "\n",
    "display(Image(research_graph.get_graph().draw_mermaid_png()))"
   ]
  },
  {
   "cell_type": "code",
   "execution_count": 9,
   "metadata": {},
   "outputs": [
    {
     "name": "stdout",
     "output_type": "stream",
     "text": [
      "{'supervisor': {'next': 'search'}}\n",
      "---\n",
      "{'search': {'messages': [HumanMessage(content='Taylor Swift\\'s \"Eras Tour\" began in March 2023 and is set to run into August, with plans for international dates beyond that. In early August 2023, she announced new U.S. dates for the tour in 2024. For more details on specific dates and locations, you can check official announcements or ticketing platforms like Ticketmaster.', additional_kwargs={}, response_metadata={}, name='search', id='b215ed39-32a0-4761-91e5-f470331f9eed')]}}\n",
      "---\n",
      "{'supervisor': {'next': '__end__'}}\n",
      "---\n"
     ]
    }
   ],
   "source": [
    "for s in research_graph.stream(\n",
    "    {\"messages\": [(\"user\", \"when is Taylor Swift's next tour?\")]},\n",
    "    {\"recursion_limit\": 100},\n",
    "):\n",
    "    print(s)\n",
    "    print(\"---\")"
   ]
  },
  {
   "cell_type": "code",
   "execution_count": 12,
   "metadata": {},
   "outputs": [],
   "source": [
    "llm = ChatOpenAI(model=\"gpt-4o\")\n",
    "\n",
    "doc_writer_agent = create_react_agent(\n",
    "    llm,\n",
    "    tools=[write_document, edit_document, read_document],\n",
    "    state_modifier=(\n",
    "        \"You can read, write and edit documents based on note-taker's outlines. \"\n",
    "        \"Don't ask follow-up questions.\"\n",
    "    ),\n",
    ")\n",
    "\n",
    "\n",
    "def doc_writing_node(state: AgentState) -> AgentState:\n",
    "    result = doc_writer_agent.invoke(state)\n",
    "    return {\n",
    "        \"messages\": [\n",
    "            HumanMessage(content=result[\"messages\"][-1].content, name=\"doc_writer\")\n",
    "        ]\n",
    "    }\n",
    "\n",
    "\n",
    "note_taking_agent = create_react_agent(\n",
    "    llm,\n",
    "    tools=[create_outline, read_document],\n",
    "    state_modifier=(\n",
    "        \"You can read documents and create outlines for the document writer. \"\n",
    "        \"Don't ask follow-up questions.\"\n",
    "    ),\n",
    ")\n",
    "\n",
    "\n",
    "def note_taking_node(state: AgentState) -> AgentState:\n",
    "    result = note_taking_agent.invoke(state)\n",
    "    return {\n",
    "        \"messages\": [\n",
    "            HumanMessage(content=result[\"messages\"][-1].content, name=\"note_taker\")\n",
    "        ]\n",
    "    }\n",
    "\n",
    "\n",
    "chart_generating_agent = create_react_agent(\n",
    "    llm, tools=[read_document, python_repl_tool]\n",
    ")\n",
    "\n",
    "\n",
    "def chart_generating_node(state: AgentState) -> AgentState:\n",
    "    result = chart_generating_agent.invoke(state)\n",
    "    return {\n",
    "        \"messages\": [\n",
    "            HumanMessage(content=result[\"messages\"][-1].content, name=\"chart_generator\")\n",
    "        ]\n",
    "    }\n",
    "\n",
    "\n",
    "doc_writing_supervisor_node = make_supervisor_node(\n",
    "    llm, [\"doc_writer\", \"note_taker\", \"chart_generator\"]\n",
    ")"
   ]
  },
  {
   "cell_type": "code",
   "execution_count": 13,
   "metadata": {},
   "outputs": [],
   "source": [
    "# Create the graph here\n",
    "paper_writing_builder = StateGraph(AgentState)\n",
    "paper_writing_builder.add_node(\"supervisor\", doc_writing_supervisor_node)\n",
    "paper_writing_builder.add_node(\"doc_writer\", doc_writing_node)\n",
    "paper_writing_builder.add_node(\"note_taker\", note_taking_node)\n",
    "paper_writing_builder.add_node(\"chart_generator\", chart_generating_node)\n",
    "\n",
    "# Define the control flow\n",
    "paper_writing_builder.add_edge(START, \"supervisor\")\n",
    "# We want our workers to ALWAYS \"report back\" to the supervisor when done\n",
    "paper_writing_builder.add_edge(\"doc_writer\", \"supervisor\")\n",
    "paper_writing_builder.add_edge(\"note_taker\", \"supervisor\")\n",
    "paper_writing_builder.add_edge(\"chart_generator\", \"supervisor\")\n",
    "# Add the edges where routing applies\n",
    "paper_writing_builder.add_conditional_edges(\"supervisor\", lambda state: state[\"next\"])\n",
    "\n",
    "paper_writing_graph = paper_writing_builder.compile()"
   ]
  },
  {
   "cell_type": "code",
   "execution_count": 14,
   "metadata": {},
   "outputs": [
    {
     "data": {
      "image/png": "[encoded data removed]",
      "text/plain": [
       "<IPython.core.display.Image object>"
      ]
     },
     "metadata": {},
     "output_type": "display_data"
    }
   ],
   "source": [
    "from IPython.display import Image, display\n",
    "\n",
    "display(Image(paper_writing_graph.get_graph().draw_mermaid_png()))"
   ]
  },
  {
   "cell_type": "code",
   "execution_count": 15,
   "metadata": {},
   "outputs": [
    {
     "name": "stdout",
     "output_type": "stream",
     "text": [
      "{'supervisor': {'next': 'note_taker'}}\n",
      "---\n",
      "{'note_taker': {'messages': [HumanMessage(content='The outline for the poem about cats has been created and saved as \"cat_poem_outline.txt\".', additional_kwargs={}, response_metadata={}, name='note_taker', id='b1a3d094-4a32-4db8-bc59-8dd5afd3eb9a')]}}\n",
      "---\n",
      "{'supervisor': {'next': 'doc_writer'}}\n",
      "---\n",
      "{'doc_writer': {'messages': [HumanMessage(content='The poem \"Ode to the Feline Friends\" has been written and saved as \"ode_to_the_feline_friends.txt\".', additional_kwargs={}, response_metadata={}, name='doc_writer', id='a8e7524d-e9b8-4e81-9fd0-6055b727e625')]}}\n",
      "---\n",
      "{'supervisor': {'next': '__end__'}}\n",
      "---\n"
     ]
    }
   ],
   "source": [
    "for s in paper_writing_graph.stream(\n",
    "    {\n",
    "        \"messages\": [\n",
    "            (\n",
    "                \"user\",\n",
    "                \"Write an outline for poem about cats and then write the poem to disk.\",\n",
    "            )\n",
    "        ]\n",
    "    },\n",
    "    {\"recursion_limit\": 100},\n",
    "):\n",
    "    print(s)\n",
    "    print(\"---\")"
   ]
  },
  {
   "cell_type": "code",
   "execution_count": 16,
   "metadata": {},
   "outputs": [],
   "source": [
    "from langchain_core.messages import BaseMessage\n",
    "\n",
    "llm = ChatOpenAI(model=\"gpt-4o\")\n",
    "\n",
    "teams_supervisor_node = make_supervisor_node(llm, [\"research_team\", \"writing_team\"])"
   ]
  },
  {
   "cell_type": "code",
   "execution_count": 17,
   "metadata": {},
   "outputs": [],
   "source": [
    "def call_research_team(state: AgentState) -> AgentState:\n",
    "    response = research_graph.invoke({\"messages\": state[\"messages\"][-1]})\n",
    "    return {\n",
    "        \"messages\": [\n",
    "            HumanMessage(content=response[\"messages\"][-1].content, name=\"research_team\")\n",
    "        ]\n",
    "    }\n",
    "\n",
    "\n",
    "def call_paper_writing_team(state: AgentState) -> AgentState:\n",
    "    response = paper_writing_graph.invoke({\"messages\": state[\"messages\"][-1]})\n",
    "    return {\n",
    "        \"messages\": [\n",
    "            HumanMessage(content=response[\"messages\"][-1].content, name=\"writing_team\")\n",
    "        ]\n",
    "    }\n",
    "\n",
    "\n",
    "# Define the graph.\n",
    "super_builder = StateGraph(AgentState)\n",
    "super_builder.add_node(\"supervisor\", teams_supervisor_node)\n",
    "super_builder.add_node(\"research_team\", call_research_team)\n",
    "super_builder.add_node(\"writing_team\", call_paper_writing_team)\n",
    "\n",
    "# Define the control flow\n",
    "super_builder.add_edge(START, \"supervisor\")\n",
    "# We want our teams to ALWAYS \"report back\" to the top-level supervisor when done\n",
    "super_builder.add_edge(\"research_team\", \"supervisor\")\n",
    "super_builder.add_edge(\"writing_team\", \"supervisor\")\n",
    "# Add the edges where routing applies\n",
    "super_builder.add_conditional_edges(\"supervisor\", lambda state: state[\"next\"])\n",
    "super_graph = super_builder.compile()"
   ]
  },
  {
   "cell_type": "code",
   "execution_count": 18,
   "metadata": {},
   "outputs": [
    {
     "data": {
      "image/png": "[encoded data removed]",
      "text/plain": [
       "<IPython.core.display.Image object>"
      ]
     },
     "metadata": {},
     "output_type": "display_data"
    }
   ],
   "source": [
    "from IPython.display import Image, display\n",
    "\n",
    "display(Image(super_graph.get_graph().draw_mermaid_png()))"
   ]
  },
  {
   "cell_type": "code",
   "execution_count": 19,
   "metadata": {},
   "outputs": [
    {
     "name": "stdout",
     "output_type": "stream",
     "text": [
      "{'supervisor': {'next': 'research_team'}}\n",
      "---\n",
      "{'research_team': {'messages': [HumanMessage(content='AI agents, which are autonomous systems leveraging artificial intelligence, have seen significant advancements and applications across various sectors in 2023. These agents are designed to perform specific tasks, offering solutions that enhance operational efficiency and user interactions.\\n\\n### Popular AI Agents in 2023\\n\\n1. **Auto GPT**: This agent is renowned for its seamless integration with existing technologies, particularly in business environments. Auto GPT automates numerous functions, facilitating smoother operations and communication.\\n\\n2. **ChartGPT**: Focused on data visualization, ChartGPT transforms how users engage with complex datasets, making data easier to understand and apply.\\n\\n3. **LLMops**: Known for its advanced language processing capabilities, LLMops provides versatile solutions that improve communication and operational efficiencies in various industries.\\n\\n4. **MetaGPT**: As an open-source framework, MetaGPT simulates the structure of a traditional software company, offering AI-driven solutions to streamline organizational processes.\\n\\n5. **OpenAGI**: Combining expert models with reinforcement learning, OpenAGI enhances task performance, offering specialized solutions like sentiment analysis and image processing.\\n\\n### Market Trends\\n\\nThe growing demand for personalized and efficient customer interactions is driving the AI agents market. By utilizing data for targeted recommendations and customer support, AI agents help businesses improve customer satisfaction and loyalty.\\n\\n### Applications and Future Prospects\\n\\n- **Healthcare**: AI agents are increasingly used in healthcare to take over routine tasks, allowing healthcare professionals to focus more on patient care and enhancing overall service delivery.\\n\\n- **Virtual Assistants and Customer Service**: These agents provide personalized customer service, autonomously managing interactions and offering tailored solutions.\\n\\n- **Intelligent Interfaces**: AI agents integrated into intelligent interfaces assist with tasks such as booking travel, managing schedules, and handling communications autonomously.\\n\\n### Conclusion\\n\\nAI agents are revolutionizing industry operations with innovative solutions that enhance efficiency and personalization. As technology progresses, these agents are expected to become even more ingrained in everyday processes, paving the way for a more automated and intelligent future. Their ongoing development promises significant transformations in how businesses and individuals engage with technology.', additional_kwargs={}, response_metadata={}, name='research_team', id='3416d71d-b3e6-4c22-8817-b63eac584389')]}}\n",
      "---\n",
      "{'supervisor': {'next': 'writing_team'}}\n",
      "---\n",
      "{'writing_team': {'messages': [HumanMessage(content='Here are the contents of your documents:\\n\\n**AI_agents_outline.txt:**\\n- The outline for your document on AI agents in 2023 has been created and saved as \"AI_agents_outline.txt\".\\n\\n**AI_agents_document.txt:**\\n- AI agents, which are autonomous systems leveraging artificial intelligence, have seen significant advancements and applications across various sectors in 2023. These agents are designed to perform specific tasks, offering solutions that enhance operational efficiency and user interactions.\\n\\n  ### Popular AI Agents in 2023\\n\\n  1. **Auto GPT**: This agent is renowned for its seamless integration with existing technologies, particularly in business environments. Auto GPT automates numerous functions, facilitating smoother operations and communication.\\n\\n  2. **ChartGPT**: Focused on data visualization, ChartGPT transforms how users engage with complex datasets, making data easier to understand and apply.\\n\\n  3. **LLMops**: Known for its advanced language processing capabilities, LLMops provides versatile solutions that improve communication and operational efficiencies in various industries.\\n\\n  4. **MetaGPT**: As an open-source framework, MetaGPT simulates the structure of a traditional software company, offering AI-driven solutions to streamline organizational processes.\\n\\n  5. **OpenAGI**: Combining expert models with reinforcement learning, OpenAGI enhances task performance, offering specialized solutions like sentiment analysis and image processing.\\n\\n  ### Market Trends\\n\\n  The growing demand for personalized and efficient customer interactions is driving the AI agents market. By utilizing data for targeted recommendations and customer support, AI agents help businesses improve customer satisfaction and loyalty.\\n\\n  ### Applications and Future Prospects\\n\\n  - **Healthcare**: AI agents are increasingly used in healthcare to take over routine tasks, allowing healthcare professionals to focus more on patient care and enhancing overall service delivery.\\n\\n  - **Virtual Assistants and Customer Service**: These agents provide personalized customer service, autonomously managing interactions and offering tailored solutions.\\n\\n  - **Intelligent Interfaces**: AI agents integrated into intelligent interfaces assist with tasks such as booking travel, managing schedules, and handling communications autonomously.\\n\\n  ### Conclusion\\n\\n  AI agents are revolutionizing industry operations with innovative solutions that enhance efficiency and personalization. As technology progresses, these agents are expected to become even more ingrained in everyday processes, paving the way for a more automated and intelligent future. Their ongoing development promises significant transformations in how businesses and individuals engage with technology.', additional_kwargs={}, response_metadata={}, name='writing_team', id='14212faa-2c11-4ea4-96d9-f2f491ff9769')]}}\n",
      "---\n",
      "{'supervisor': {'next': '__end__'}}\n",
      "---\n"
     ]
    }
   ],
   "source": [
    "for s in super_graph.stream(\n",
    "    {\n",
    "        \"messages\": [\n",
    "            (\"user\", \"Research AI agents and write a brief report about them.\")\n",
    "        ],\n",
    "    },\n",
    "    {\"recursion_limit\": 150},\n",
    "):\n",
    "    print(s)\n",
    "    print(\"---\")"
   ]
  },
  {
   "cell_type": "code",
   "execution_count": null,
   "metadata": {},
   "outputs": [],
   "source": []
  }
 ],
 "metadata": {
  "kernelspec": {
   "display_name": "openai",
   "language": "python",
   "name": "python3"
  },
  "language_info": {
   "codemirror_mode": {
    "name": "ipython",
    "version": 3
   },
   "file_extension": ".py",
   "mimetype": "text/x-python",
   "name": "python",
   "nbconvert_exporter": "python",
   "pygments_lexer": "ipython3",
   "version": "3.11.7"
  }
 },
 "nbformat": 4,
 "nbformat_minor": 2
}
